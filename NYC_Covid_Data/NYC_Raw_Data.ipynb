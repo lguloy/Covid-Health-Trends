{
 "cells": [
  {
   "cell_type": "code",
   "execution_count": null,
   "metadata": {},
   "outputs": [],
   "source": [
    "%matplotlib notebook"
   ]
  },
  {
   "cell_type": "code",
   "execution_count": null,
   "metadata": {},
   "outputs": [],
   "source": [
    "#Import Dependencies \n",
    "import requests\n",
    "from scipy import stats\n",
    "import pandas as pd\n",
    "from NYC_token import app_token\n",
    "import matplotlib.pyplot as plt"
   ]
  },
  {
   "cell_type": "code",
   "execution_count": null,
   "metadata": {},
   "outputs": [],
   "source": [
    "#set up query string\n",
    "url = \"https://data.cityofnewyork.us/resource/rc75-m7u3.json?\"\n",
    "app_token = \"$$app_token=\" + app_token"
   ]
  },
  {
   "cell_type": "code",
   "execution_count": null,
   "metadata": {},
   "outputs": [],
   "source": [
    "#Call url to get data\n",
    "response = requests.get(url + app_token).json()"
   ]
  },
  {
   "cell_type": "code",
   "execution_count": null,
   "metadata": {},
   "outputs": [],
   "source": [
    "#Create lists to hold the data you want\n",
    "case_count = []\n",
    "date = []\n",
    "death = []"
   ]
  },
  {
   "cell_type": "code",
   "execution_count": null,
   "metadata": {},
   "outputs": [],
   "source": [
    "# use for loop to pull out the data\n",
    "for data in range(0, len(response)):\n",
    "    case_count.append(response[data]['case_count'])\n",
    "    date.append(response[data]['date_of_interest'])\n",
    "    death.append(response[data]['death_count'])"
   ]
  },
  {
   "cell_type": "code",
   "execution_count": null,
   "metadata": {},
   "outputs": [],
   "source": [
    "#create data frame to hold pulled data\n",
    "\n",
    "NYC_dict = {\n",
    "    'Date': date,\n",
    "    'Case Count': case_count,   \n",
    "    'Death Count': death\n",
    "}\n",
    "\n",
    "NYC_data = pd.DataFrame(NYC_dict)\n",
    "NYC_data"
   ]
  },
  {
   "cell_type": "code",
   "execution_count": null,
   "metadata": {},
   "outputs": [],
   "source": [
    "# used this to see ALL of the data. Not needed but helpful to get a sense of the data\n",
    "pd.options.display.max_rows = 600\n",
    "\n",
    "NYC_data"
   ]
  },
  {
   "cell_type": "code",
   "execution_count": null,
   "metadata": {},
   "outputs": [],
   "source": [
    "#removed timestamp from Data column\n",
    "\n",
    "NYC_data.Date = NYC_data.Date.str.slice(stop=10)"
   ]
  },
  {
   "cell_type": "code",
   "execution_count": null,
   "metadata": {},
   "outputs": [],
   "source": [
    "NYC_data"
   ]
  },
  {
   "cell_type": "code",
   "execution_count": null,
   "metadata": {},
   "outputs": [],
   "source": [
    "# Return columns as integers instead of strings so we can plot the data\n",
    "NYC_data['Case Count'] = NYC_data['Case Count'].astype(int)"
   ]
  },
  {
   "cell_type": "code",
   "execution_count": null,
   "metadata": {},
   "outputs": [],
   "source": [
    "NYC_data['Death Count'] = NYC_data['Death Count'].astype(int)"
   ]
  },
  {
   "cell_type": "code",
   "execution_count": null,
   "metadata": {},
   "outputs": [],
   "source": [
    "#scale down the data to make the plot read better\n",
    "\n",
    "clean_df = NYC_data[NYC_data.index % 10 == 0]  # Selects every 3rd row starting from 0\n",
    "\n",
    "clean_df"
   ]
  },
  {
   "cell_type": "code",
   "execution_count": null,
   "metadata": {},
   "outputs": [],
   "source": [
    "#Create line plot to showcase the data\n",
    "plt.figure(figsize=(12,7.75))\n",
    "case_count = plt.plot(clean_df['Date'], clean_df.loc[:, 'Case Count'], color=\"blue\", label=\"Case Count\")\n",
    "death_count = plt.plot(clean_df['Date'], clean_df.loc[:, 'Death Count'], color=\"red\", label=\"Death Count\")\n",
    "\n",
    "plt.xticks(rotation=45)"
   ]
  },
  {
   "cell_type": "code",
   "execution_count": null,
   "metadata": {},
   "outputs": [],
   "source": [
    "#Label the plot\n",
    "plt.title(\"NYC COVID Count\")\n",
    "plt.xlabel(\"Date\")\n",
    "plt.ylabel(\"Case Numbers\")"
   ]
  },
  {
   "cell_type": "code",
   "execution_count": null,
   "metadata": {},
   "outputs": [],
   "source": [
    "#make it look better?\n",
    "plt.xlim(-0.75, len(clean_df['Date']))\n",
    "# plt.ylim(0, max(rain_df[\"Inches\"])+10)"
   ]
  },
  {
   "cell_type": "code",
   "execution_count": null,
   "metadata": {},
   "outputs": [],
   "source": [
    "#Export to image\n",
    "plt.savefig(\"NYC_Case_Count.png\")"
   ]
  },
  {
   "cell_type": "code",
   "execution_count": null,
   "metadata": {},
   "outputs": [],
   "source": []
  }
 ],
 "metadata": {
  "kernelspec": {
   "display_name": "Python 3",
   "language": "python",
   "name": "python3"
  },
  "language_info": {
   "codemirror_mode": {
    "name": "ipython",
    "version": 3
   },
   "file_extension": ".py",
   "mimetype": "text/x-python",
   "name": "python",
   "nbconvert_exporter": "python",
   "pygments_lexer": "ipython3",
   "version": "3.7.9"
  }
 },
 "nbformat": 4,
 "nbformat_minor": 4
}
