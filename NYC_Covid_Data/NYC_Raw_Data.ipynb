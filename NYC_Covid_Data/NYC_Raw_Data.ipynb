{
 "cells": [
  {
   "cell_type": "code",
   "execution_count": 8,
   "metadata": {},
   "outputs": [],
   "source": [
    "import requests\n",
    "from scipy import stats\n",
    "import pandas as pd\n",
    "from NYC_token import app_token"
   ]
  },
  {
   "cell_type": "code",
   "execution_count": 9,
   "metadata": {},
   "outputs": [],
   "source": [
    "#set up query string\n",
    "url = \"https://data.cityofnewyork.us/resource/rc75-m7u3.json?\"\n",
    "app_token = \"$$app_token=\" + app_token\n",
    "\n",
    "date = \"date_of_interest=\"\n",
    "\n",
    "dates = [\"2020-01-30\", \"2020-02-28\", \"2020-03-30\", \"2020-04-30\", \"2020-05-30\", \"2020-06-30\", \"2020-07-30\", \"2020-08-30\", \"2020-09-30\", \"2020-10-30\", \"2020-11-30\", \"2020-12-30\", \"2021-01-30\", \"2021-02-28\"]"
   ]
  },
  {
   "cell_type": "code",
   "execution_count": null,
   "metadata": {},
   "outputs": [],
   "source": []
  }
 ],
 "metadata": {
  "kernelspec": {
   "display_name": "Python 3",
   "language": "python",
   "name": "python3"
  },
  "language_info": {
   "codemirror_mode": {
    "name": "ipython",
    "version": 3
   },
   "file_extension": ".py",
   "mimetype": "text/x-python",
   "name": "python",
   "nbconvert_exporter": "python",
   "pygments_lexer": "ipython3",
   "version": "3.8.5"
  }
 },
 "nbformat": 4,
 "nbformat_minor": 4
}
