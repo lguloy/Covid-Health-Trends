{
 "cells": [
  {
   "cell_type": "code",
   "execution_count": null,
   "metadata": {},
   "outputs": [],
   "source": [
    "%matplotlib inline"
   ]
  },
  {
   "cell_type": "code",
   "execution_count": null,
   "metadata": {},
   "outputs": [],
   "source": [
    "#Import Dependencies \n",
    "import requests\n",
    "from scipy import stats\n",
    "import pandas as pd\n",
    "from CovidAct_API_key import api_key\n",
    "import matplotlib.pyplot as plt"
   ]
  },
  {
   "cell_type": "code",
   "execution_count": null,
   "metadata": {},
   "outputs": [],
   "source": [
    "url = \"https://api.covidactnow.org/v2/state/WA.timeseries.json?apiKey=\"\n"
   ]
  },
  {
   "cell_type": "code",
   "execution_count": null,
   "metadata": {},
   "outputs": [],
   "source": [
    "response = requests.get(url + api_key).json()\n",
    "response"
   ]
  },
  {
   "cell_type": "code",
   "execution_count": null,
   "metadata": {},
   "outputs": [],
   "source": [
    "#Pull dictionary out of total data set in order to parse through in a for loop\n",
    "response = response.get('actualsTimeseries')\n"
   ]
  },
  {
   "cell_type": "code",
   "execution_count": null,
   "metadata": {},
   "outputs": [],
   "source": [
    "#Create lists to hold the data you want\n",
    "case_count = []\n",
    "date = []\n",
    "death = []\n",
    "total_death = []\n",
    "total_cases = []"
   ]
  },
  {
   "cell_type": "code",
   "execution_count": null,
   "metadata": {
    "scrolled": false
   },
   "outputs": [],
   "source": [
    "# use for loop to pull out the data\n",
    "for actualsTimeseries in range(0, len(response)):\n",
    "    case_count.append(response[actualsTimeseries]['newCases'])\n",
    "    date.append(response[actualsTimeseries]['date'])\n",
    "    death.append(response[actualsTimeseries]['newDeaths'])\n",
    "    total_death.append(response[actualsTimeseries]['deaths'])\n",
    "    total_cases.append(response[actualsTimeseries]['cases'])"
   ]
  },
  {
   "cell_type": "code",
   "execution_count": null,
   "metadata": {},
   "outputs": [],
   "source": [
    "#create data frame to hold pulled data\n",
    "\n",
    "WA_dict = {\n",
    "    'Date': date,\n",
    "    'Case Count': case_count,   \n",
    "    'Death Count': death,\n",
    "}\n",
    "\n",
    "WA_data = pd.DataFrame.from_dict(WA_dict)\n",
    "\n",
    "WA_data.dropna()"
   ]
  },
  {
   "cell_type": "code",
   "execution_count": null,
   "metadata": {},
   "outputs": [],
   "source": [
    "#reset the index\n",
    "WA_data.reset_index()"
   ]
  },
  {
   "cell_type": "code",
   "execution_count": null,
   "metadata": {
    "scrolled": true
   },
   "outputs": [],
   "source": [
    "#scale down the data and get rid of rows with 'NaN' to make the plot read better\n",
    "\n",
    "clean_df = WA_data[WA_data.index % 10 == 0]  # Selects every 3rd row starting from 0\n",
    "\n",
    "clean_df = clean_df.dropna()"
   ]
  },
  {
   "cell_type": "code",
   "execution_count": null,
   "metadata": {},
   "outputs": [],
   "source": [
    "\n",
    "clean_df"
   ]
  },
  {
   "cell_type": "code",
   "execution_count": null,
   "metadata": {
    "scrolled": false
   },
   "outputs": [],
   "source": [
    "#Create line plot to showcase the data\n",
    "plt.figure(figsize=(12, 9))\n",
    "death_count = plt.plot(clean_df['Date'], clean_df.loc[:, 'Death Count'], color=\"red\", label=\"Death Count\")\n",
    "\n",
    "plt.xticks(rotation=90)\n",
    "\n",
    "plt.title(\"Washington State COVID Death Count\")\n",
    "plt.xlabel(\"Date\")\n",
    "plt.ylabel(\"Case Numbers\")\n",
    "\n",
    "#make it look better?\n",
    "plt.xlim(-0.75, len(clean_df['Date']))\n",
    "#plt.ylim(, max(clean_df[\"Case Count\"])+10)\n",
    "\n",
    "#Export to image\n",
    "plt.savefig(\"WA_Death_Count.png\")"
   ]
  },
  {
   "cell_type": "code",
   "execution_count": null,
   "metadata": {},
   "outputs": [],
   "source": []
  }
 ],
 "metadata": {
  "kernelspec": {
   "display_name": "Python 3",
   "language": "python",
   "name": "python3"
  },
  "language_info": {
   "codemirror_mode": {
    "name": "ipython",
    "version": 3
   },
   "file_extension": ".py",
   "mimetype": "text/x-python",
   "name": "python",
   "nbconvert_exporter": "python",
   "pygments_lexer": "ipython3",
   "version": "3.7.9"
  }
 },
 "nbformat": 4,
 "nbformat_minor": 4
}
