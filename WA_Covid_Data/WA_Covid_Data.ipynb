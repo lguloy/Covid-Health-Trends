{
 "cells": [
  {
   "cell_type": "code",
   "execution_count": 3,
   "metadata": {},
   "outputs": [],
   "source": [
    "%matplotlib notebook"
   ]
  },
  {
   "cell_type": "code",
   "execution_count": 4,
   "metadata": {},
   "outputs": [
    {
     "ename": "SyntaxError",
     "evalue": "invalid syntax (CovidAct_API_key.py, line 1)",
     "output_type": "error",
     "traceback": [
      "Traceback \u001b[0;36m(most recent call last)\u001b[0m:\n",
      "  File \u001b[1;32m\"/opt/anaconda3/envs/PythonData/lib/python3.7/site-packages/IPython/core/interactiveshell.py\"\u001b[0m, line \u001b[1;32m3418\u001b[0m, in \u001b[1;35mrun_code\u001b[0m\n    exec(code_obj, self.user_global_ns, self.user_ns)\n",
      "\u001b[0;36m  File \u001b[0;32m\"<ipython-input-4-8b107f05d0fa>\"\u001b[0;36m, line \u001b[0;32m5\u001b[0;36m, in \u001b[0;35m<module>\u001b[0;36m\u001b[0m\n\u001b[0;31m    from CovidAct_API_key import api_key\u001b[0m\n",
      "\u001b[0;36m  File \u001b[0;32m\"/Users/AlexGoodman/Documents/JHU_Bootcamp/Project 1 Repo/Covid-Health-Trends/WA_Covid_Data/CovidAct_API_key.py\"\u001b[0;36m, line \u001b[0;32m1\u001b[0m\n\u001b[0;31m    api_key = 959ae5fdb39149bf8e63be95da127df9\u001b[0m\n\u001b[0m                                             ^\u001b[0m\n\u001b[0;31mSyntaxError\u001b[0m\u001b[0;31m:\u001b[0m invalid syntax\n"
     ]
    }
   ],
   "source": [
    "#Import Dependencies \n",
    "import requests\n",
    "from scipy import stats\n",
    "import pandas as pd\n",
    "from CovidAct_API_key import api_key\n",
    "import matplotlib.pyplot as plt"
   ]
  },
  {
   "cell_type": "code",
   "execution_count": null,
   "metadata": {},
   "outputs": [],
   "source": [
    "url = \"https://api.covidactnow.org/v2/state/WA.timeseries.json?apiKey=\"\n"
   ]
  },
  {
   "cell_type": "code",
   "execution_count": null,
   "metadata": {},
   "outputs": [],
   "source": [
    "response = requests.get(url + api_key).json()\n",
    "response"
   ]
  },
  {
   "cell_type": "code",
   "execution_count": null,
   "metadata": {},
   "outputs": [],
   "source": [
    "response = response.get('actualsTimeseries')\n"
   ]
  },
  {
   "cell_type": "code",
   "execution_count": null,
   "metadata": {},
   "outputs": [],
   "source": [
    "#Create lists to hold the data you want\n",
    "case_count = []\n",
    "date = []\n",
    "death = []\n",
    "total_death = []\n",
    "total_cases = []"
   ]
  },
  {
   "cell_type": "code",
   "execution_count": null,
   "metadata": {
    "scrolled": false
   },
   "outputs": [],
   "source": [
    "# use for loop to pull out the data\n",
    "for actualsTimeseries in range(0, len(response)):\n",
    "    case_count.append(response[actualsTimeseries]['newCases'])\n",
    "    date.append(response[actualsTimeseries]['date'])\n",
    "    death.append(response[actualsTimeseries]['newDeaths'])\n",
    "    total_death.append(response[actualsTimeseries]['deaths'])\n",
    "    total_cases.append(response[actualsTimeseries]['cases'])"
   ]
  },
  {
   "cell_type": "code",
   "execution_count": null,
   "metadata": {},
   "outputs": [],
   "source": [
    "#create data frame to hold pulled data\n",
    "\n",
    "WA_dict = {\n",
    "    'Date': date,\n",
    "    'Case Count': case_count,   \n",
    "    'Death Count': death,\n",
    "}\n",
    "\n",
    "WA_data = pd.DataFrame.from_dict(WA_dict)\n",
    "\n",
    "WA_data.dropna()"
   ]
  },
  {
   "cell_type": "code",
   "execution_count": null,
   "metadata": {},
   "outputs": [],
   "source": [
    "WA_data.reset_index()"
   ]
  },
  {
   "cell_type": "code",
   "execution_count": null,
   "metadata": {
    "scrolled": true
   },
   "outputs": [],
   "source": [
    "#scale down the data to make the plot read better\n",
    "\n",
    "clean_df = WA_data[WA_data.index % 10 == 0]  # Selects every 3rd row starting from 0\n",
    "\n",
    "clean_df = clean_df.dropna()"
   ]
  },
  {
   "cell_type": "code",
   "execution_count": null,
   "metadata": {},
   "outputs": [],
   "source": [
    "clean_df"
   ]
  },
  {
   "cell_type": "code",
   "execution_count": null,
   "metadata": {
    "scrolled": false
   },
   "outputs": [],
   "source": [
    "#Create line plot to showcase the data\n",
    "plt.figure(figsize=(10, 3))\n",
    "case_count = plt.plot(clean_df['Date'], clean_df.loc[:, 'Case Count'], color=\"blue\", label=\"Case Count\")\n",
    "death_count = plt.plot(clean_df['Date'], clean_df.loc[:, 'Death Count'], color=\"red\", label=\"Death Count\")\n",
    "\n",
    "plt.xticks(rotation=45)"
   ]
  },
  {
   "cell_type": "code",
   "execution_count": null,
   "metadata": {},
   "outputs": [],
   "source": [
    "plt.title(\"Washington State COVID Count\")\n",
    "plt.xlabel(\"Date\")\n",
    "plt.ylabel(\"Case Numbers\")"
   ]
  },
  {
   "cell_type": "code",
   "execution_count": null,
   "metadata": {},
   "outputs": [],
   "source": [
    "#make it look better?\n",
    "plt.xlim(-0.75, len(clean_df['Date']))\n",
    "#plt.ylim(, max(clean_df[\"Case Count\"])+10)"
   ]
  },
  {
   "cell_type": "code",
   "execution_count": null,
   "metadata": {},
   "outputs": [],
   "source": [
    "#Export to image\n",
    "plt.savefig(\"WA_Case_Count.png\")"
   ]
  },
  {
   "cell_type": "code",
   "execution_count": null,
   "metadata": {},
   "outputs": [],
   "source": []
  }
 ],
 "metadata": {
  "kernelspec": {
   "display_name": "Python 3",
   "language": "python",
   "name": "python3"
  },
  "language_info": {
   "codemirror_mode": {
    "name": "ipython",
    "version": 3
   },
   "file_extension": ".py",
   "mimetype": "text/x-python",
   "name": "python",
   "nbconvert_exporter": "python",
   "pygments_lexer": "ipython3",
   "version": "3.7.9"
  }
 },
 "nbformat": 4,
 "nbformat_minor": 4
}
